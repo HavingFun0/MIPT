{
 "cells": [
  {
   "cell_type": "markdown",
   "id": "convinced-armstrong",
   "metadata": {},
   "source": [
    "$u_{t}=u_{xx} + \\pi^2sin(\\pi x)$"
   ]
  },
  {
   "cell_type": "markdown",
   "id": "subject-hopkins",
   "metadata": {},
   "source": [
    "\\begin{gather}\n",
    "\\frac{u_{m}^{n+1}-u_{m}^{n}}{\\tau} - \\frac{u_{m+1}^n - 2u_{m}^n + u_{m-1}^n}{h^2}= f_m^n\n",
    "\\end{gather}"
   ]
  },
  {
   "cell_type": "markdown",
   "id": "corrected-observation",
   "metadata": {},
   "source": [
    "Невязка $\\frac{1}{2}u_{tt}\\tau + \\frac{1}{12}u_{xxxx}h^2$, точное решение $(1-e^{-\\pi^2t})sin(\\pi x)$"
   ]
  },
  {
   "cell_type": "markdown",
   "id": "nasty-companion",
   "metadata": {},
   "source": [
    "$|u_{tt}|\\frac{1}{2}\\tau\\leq \\pi^4 \\tau /2 < \\varepsilon \\pi^2$"
   ]
  },
  {
   "cell_type": "markdown",
   "id": "collective-eugene",
   "metadata": {},
   "source": [
    "$|\\frac{1}{12}u_{xxxx}h^2|\\leq\\varepsilon \\pi^2$"
   ]
  },
  {
   "cell_type": "markdown",
   "id": "improved-tolerance",
   "metadata": {},
   "source": [
    "Отсюда\n",
    "$h\\leq \\frac{\\sqrt{12\\varepsilon}}{\\pi} = 0.01$,\n",
    "$\\tau$ определяем из требования устойчивости"
   ]
  },
  {
   "cell_type": "code",
   "execution_count": 1,
   "id": "inappropriate-valuation",
   "metadata": {},
   "outputs": [],
   "source": [
    "import numpy as np\n",
    "import matplotlib.pyplot as plt\n",
    "import matplotlib.animation as anime\n",
    "from matplotlib.animation import FuncAnimation\n",
    "import math"
   ]
  },
  {
   "cell_type": "code",
   "execution_count": 2,
   "id": "straight-seller",
   "metadata": {},
   "outputs": [],
   "source": [
    "# зададим параметры задачи\n",
    "\n",
    "# длина стороны пластины\n",
    "plate_size = 1\n",
    "\n",
    "# время расчета\n",
    "t_max = 1\n",
    "\n",
    "# коэффициент температуропроводности\n",
    "alpha = 1.0\n",
    "\n",
    "# шаг по пространству, считаем dx = dy\n",
    "dx = 0.005\n",
    "m_max = int(plate_size // dx)\n",
    "\n",
    "\n",
    "# вычисляем шаг по времени так, чтобы выполнялось условие устойчивости\n",
    "dt = (dx**2) / (4*alpha)\n",
    "\n",
    "n_max = int (t_max // dt)\n",
    "#число Куранта\n",
    "cour = (alpha*dt) / (dx**2)"
   ]
  },
  {
   "cell_type": "code",
   "execution_count": 6,
   "id": "conscious-democrat",
   "metadata": {},
   "outputs": [
    {
     "data": {
      "text/plain": [
       "0.005"
      ]
     },
     "execution_count": 6,
     "metadata": {},
     "output_type": "execute_result"
    }
   ],
   "source": [
    "dx"
   ]
  },
  {
   "cell_type": "code",
   "execution_count": 4,
   "id": "floppy-gates",
   "metadata": {},
   "outputs": [],
   "source": [
    "# инициализируем расчетную сетку и зададим начальные и граничные условия\n",
    "\n",
    "# создаем расчетную область для u(n, m, l)\n",
    "u = np.empty((n_max, m_max))\n",
    "# начальные условия в точках внутри расчетной области\n",
    "u_initial = 0.0\n",
    "u.fill(u_initial)\n",
    "theor = u.copy()"
   ]
  },
  {
   "cell_type": "code",
   "execution_count": 16,
   "id": "disabled-conjunction",
   "metadata": {},
   "outputs": [],
   "source": [
    "# вычисление значений функции\n",
    "def f(x):\n",
    "    return (math.pi**2)*math.sin(math.pi*x)\n",
    "def calculate(u):\n",
    "    for n in range(0, n_max-1):\n",
    "        for m in range(1, m_max-1):\n",
    "                u[n + 1, m] = cour * (u[n][m+1] + u[n][m-1]- 2*u[n][m]) + u[n][m]+f(dx*m)*dt\n",
    "    return u\n",
    "def calculate_theor(u_theor):\n",
    "    for n in range(0, n_max):\n",
    "        for m in range(0, m_max):\n",
    "                u_theor[n, m] = (1-math.exp(-(math.pi**2)*n*dt))*math.sin(math.pi*m*dx)\n",
    "    return u_theor"
   ]
  },
  {
   "cell_type": "code",
   "execution_count": 17,
   "id": "exempt-requirement",
   "metadata": {},
   "outputs": [
    {
     "data": {
      "text/plain": [
       "9.869604401089358"
      ]
     },
     "execution_count": 17,
     "metadata": {},
     "output_type": "execute_result"
    }
   ],
   "source": [
    "f(1/2)"
   ]
  },
  {
   "cell_type": "code",
   "execution_count": 8,
   "id": "weekly-vector",
   "metadata": {},
   "outputs": [],
   "source": [
    "# функция для отрисовки решения\n",
    "def plotheatmap(u):\n",
    "    # Очистим место для графика (clear fig)\n",
    "    plt.clf()\n",
    "#     plt.title(f\"График температуры при t = {n*dt:.3f}\")\n",
    "    plt.xlabel(\"x\")\n",
    "    plt.ylabel(\"t\")\n",
    "    \n",
    "    # рисуем график температуры в плоскости (x,y) на n-ном шаге по времени\n",
    "    plt.pcolormesh(u, cmap=plt.cm.jet, vmin=0, vmax=1)\n",
    "    plt.colorbar()\n",
    "    \n",
    "    return plt"
   ]
  },
  {
   "cell_type": "code",
   "execution_count": 9,
   "id": "removable-jacob",
   "metadata": {},
   "outputs": [
    {
     "data": {
      "text/plain": [
       "<module 'matplotlib.pyplot' from 'c:\\\\users\\\\mamek\\\\appdata\\\\local\\\\programs\\\\python\\\\python39\\\\lib\\\\site-packages\\\\matplotlib\\\\pyplot.py'>"
      ]
     },
     "execution_count": 9,
     "metadata": {},
     "output_type": "execute_result"
    },
    {
     "data": {
      "image/png": "[encoded data removed]",
      "text/plain": [
       "<Figure size 432x288 with 2 Axes>"
      ]
     },
     "metadata": {
      "needs_background": "light"
     },
     "output_type": "display_data"
    }
   ],
   "source": [
    "theor = calculate_theor(theor)\n",
    "plotheatmap(theor)"
   ]
  },
  {
   "cell_type": "code",
   "execution_count": 10,
   "id": "cutting-recruitment",
   "metadata": {},
   "outputs": [
    {
     "data": {
      "text/plain": [
       "<module 'matplotlib.pyplot' from 'c:\\\\users\\\\mamek\\\\appdata\\\\local\\\\programs\\\\python\\\\python39\\\\lib\\\\site-packages\\\\matplotlib\\\\pyplot.py'>"
      ]
     },
     "execution_count": 10,
     "metadata": {},
     "output_type": "execute_result"
    },
    {
     "data": {
      "image/png": "[encoded data removed]",
      "text/plain": [
       "<Figure size 432x288 with 2 Axes>"
      ]
     },
     "metadata": {
      "needs_background": "light"
     },
     "output_type": "display_data"
    }
   ],
   "source": [
    "# решаем задачу\n",
    "u = calculate(u)\n",
    "plotheatmap(u)"
   ]
  },
  {
   "cell_type": "code",
   "execution_count": 21,
   "id": "english-entry",
   "metadata": {},
   "outputs": [],
   "source": [
    "delta = np.empty((n_max, m_max))"
   ]
  },
  {
   "cell_type": "code",
   "execution_count": 24,
   "id": "racial-pasta",
   "metadata": {},
   "outputs": [],
   "source": [
    "for n in range(0, n_max-1):\n",
    "        for m in range(1, m_max-1):\n",
    "                if (theor[n,m]!=0):\n",
    "                    delta[n,m] = (u[n,m]-theor[n,m])/theor[n,m]\n"
   ]
  },
  {
   "cell_type": "code",
   "execution_count": 25,
   "id": "printable-progress",
   "metadata": {},
   "outputs": [
    {
     "data": {
      "text/plain": [
       "3.084283054099237e-05"
      ]
     },
     "execution_count": 25,
     "metadata": {},
     "output_type": "execute_result"
    }
   ],
   "source": [
    "np.max(delta)"
   ]
  },
  {
   "cell_type": "code",
   "execution_count": null,
   "id": "positive-globe",
   "metadata": {},
   "outputs": [],
   "source": []
  }
 ],
 "metadata": {
  "kernelspec": {
   "display_name": "Python 3",
   "language": "python",
   "name": "python3"
  },
  "language_info": {
   "codemirror_mode": {
    "name": "ipython",
    "version": 3
   },
   "file_extension": ".py",
   "mimetype": "text/x-python",
   "name": "python",
   "nbconvert_exporter": "python",
   "pygments_lexer": "ipython3",
   "version": "3.8.10"
  }
 },
 "nbformat": 4,
 "nbformat_minor": 5
}
