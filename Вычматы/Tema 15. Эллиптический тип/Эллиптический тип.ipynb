{
 "cells": [
  {
   "cell_type": "markdown",
   "id": "cac7ff76",
   "metadata": {},
   "source": [
    "#  Тема 15\n",
    "\n",
    "# Вариант 16\n"
   ]
  },
  {
   "cell_type": "markdown",
   "id": "921bdf3c",
   "metadata": {},
   "source": [
    "## Задача 1(5.1)"
   ]
  },
  {
   "cell_type": "markdown",
   "id": "f5f0eae8",
   "metadata": {},
   "source": [
    "## Задача 2(7.1)"
   ]
  },
  {
   "cell_type": "markdown",
   "id": "4c8e2c00",
   "metadata": {},
   "source": [
    "## Задача 3(7.14)"
   ]
  },
  {
   "cell_type": "markdown",
   "id": "7db2ee77",
   "metadata": {},
   "source": [
    "## Задача 4(7.15)"
   ]
  },
  {
   "cell_type": "markdown",
   "id": "6f284e18",
   "metadata": {},
   "source": [
    "## Задача 5(8.1б,и)"
   ]
  }
 ],
 "metadata": {
  "kernelspec": {
   "display_name": "Python 3",
   "language": "python",
   "name": "python3"
  },
  "language_info": {
   "codemirror_mode": {
    "name": "ipython",
    "version": 3
   },
   "file_extension": ".py",
   "mimetype": "text/x-python",
   "name": "python",
   "nbconvert_exporter": "python",
   "pygments_lexer": "ipython3",
   "version": "3.8.10"
  }
 },
 "nbformat": 4,
 "nbformat_minor": 5
}
