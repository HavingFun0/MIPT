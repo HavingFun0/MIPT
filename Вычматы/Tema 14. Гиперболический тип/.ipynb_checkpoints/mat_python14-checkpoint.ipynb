{
 "cells": [
  {
   "cell_type": "code",
   "execution_count": 201,
   "metadata": {},
   "outputs": [],
   "source": [
    "import numpy as np\n",
    "import matplotlib.pyplot as plt\n",
    "from matplotlib.animation import FuncAnimation"
   ]
  },
  {
   "cell_type": "code",
   "execution_count": 202,
   "metadata": {},
   "outputs": [],
   "source": [
    "Nx = 41\n",
    "dx=0.5\n",
    "Nt = 36\n",
    "dt=0.5\n",
    "y0=np.zeros(Nx)\n",
    "for i in range(Nx):\n",
    "    y0[i]=np.sin(4*np.pi*i/Nx)\n",
    "u_real = np.zeros((Nt,Nx))\n",
    "for i in range(Nx):\n",
    "    for j in range(Nt):\n",
    "        u_real[j][i]=np.sin(4*np.pi*(i*dx-j*dt)/(Nx*dx))"
   ]
  },
  {
   "cell_type": "code",
   "execution_count": 203,
   "metadata": {},
   "outputs": [],
   "source": [
    "def stupid_scheme(y0,Nx,Nt,dx,dt):\n",
    "    ans=np.zeros((Nt,Nx))\n",
    "    ans[0]=y0\n",
    "    for i in range(1,Nt,1):\n",
    "        ans[i][0] = ans[i-1][0]-dt/dx*(ans[i-1][0]-ans[i-1][Nx-1])\n",
    "        ans[i][1:Nx] = ans[i-1][1:Nx]-dt/dx*(ans[i-1][1:Nx]-ans[i-1][0:Nx-1])\n",
    "    return ans\n",
    "def Laks_Vendroff(y0,Nx,Nt,dx,dt,a=1):\n",
    "    ans=np.zeros((Nt,Nx))\n",
    "    ans[0]=y0\n",
    "    for i in range(1,Nt,1):\n",
    "        ans[i][0] = ans[i-1][0]-a*dt/2/dx*(ans[i-1][1]-ans[i-1][Nx-1]) + a*a*dt*dt/2/dx/dx*(ans[i-1][1]-2*ans[i-1][0]+ans[i-1][Nx-1])\n",
    "        ans[i][1:Nx-1] = ans[i-1][1:Nx-1]-a*dt/2/dx*(ans[i-1][2:Nx]-ans[i-1][0:Nx-2]) + a*a*dt*dt/2/dx/dx*(ans[i-1][0:Nx-2]-2*ans[i-1][1:Nx-1]+ans[i-1][2:Nx])\n",
    "        ans[i][Nx-1] = ans[i-1][Nx-1]-a*dt/2/dx*(ans[i-1][0]-ans[i-1][Nx-2]) + a*a*dt*dt/2/dx/dx*(ans[i-1][0]-2*ans[i-1][Nx-1]+ans[i-1][Nx-2])\n",
    "    return ans"
   ]
  },
  {
   "cell_type": "code",
   "execution_count": 204,
   "metadata": {},
   "outputs": [],
   "source": [
    "ans = Laks_Vendroff(y0,Nx,Nt,dx,dt,1)\n",
    "ans1 = stupid_scheme(y0,Nx,Nt,dx,dt)"
   ]
  },
  {
   "cell_type": "code",
   "execution_count": 205,
   "metadata": {},
   "outputs": [
    {
     "data": {
      "text/plain": [
       "[<matplotlib.lines.Line2D at 0x7ff8eba22240>]"
      ]
     },
     "execution_count": 205,
     "metadata": {},
     "output_type": "execute_result"
    },
    {
     "data": {
      "image/png": "[encoded data removed]",
      "text/plain": [
       "<Figure size 432x288 with 1 Axes>"
      ]
     },
     "metadata": {
      "needs_background": "light"
     },
     "output_type": "display_data"
    }
   ],
   "source": [
    "fig = plt.figure()\n",
    "ax = plt.axes()\n",
    "ax.plot(np.linspace(0,1,Nx),ans1[3])"
   ]
  },
  {
   "cell_type": "code",
   "execution_count": 206,
   "metadata": {},
   "outputs": [
    {
     "name": "stdout",
     "output_type": "stream",
     "text": [
      "1.4155343563970746e-15 1.3877787807814457e-15\n",
      "2.2433308041547525e-15 2.2710863797703814e-15\n",
      "2.2710863797703814e-15 2.2710863797703814e-15\n"
     ]
    }
   ],
   "source": [
    "#дефолтная сетка \\sigma = 1\n",
    "Nx = 41\n",
    "dx=0.5\n",
    "Nt = 36\n",
    "dt=0.5\n",
    "y0=np.zeros(Nx)\n",
    "for i in range(Nx):\n",
    "    y0[i]=np.sin(4*np.pi*i/Nx)\n",
    "u_real = np.zeros((Nt,Nx))\n",
    "for i in range(Nx):\n",
    "    for j in range(Nt):\n",
    "        u_real[j][i]=np.sin(4*np.pi*(i*dx-j*dt)/(Nx*dx))\n",
    "ans = Laks_Vendroff(y0,Nx,Nt,dx,dt,1)\n",
    "ans1 = stupid_scheme(y0,Nx,Nt,dx,dt)\n",
    "print(np.max(np.abs(ans-u_real)),np.max(np.abs(ans1-u_real)))\n",
    "#сетка суженная вдвое \\sigma = 1\n",
    "Nx = 41*2\n",
    "dx=0.5/2\n",
    "Nt = 36*2\n",
    "dt=0.5/2\n",
    "y0=np.zeros(Nx)\n",
    "for i in range(Nx):\n",
    "    y0[i]=np.sin(4*np.pi*i/Nx)\n",
    "u_real = np.zeros((Nt,Nx))\n",
    "for i in range(Nx):\n",
    "    for j in range(Nt):\n",
    "        u_real[j][i]=np.sin(4*np.pi*(i*dx-j*dt)/(Nx*dx))\n",
    "ans = Laks_Vendroff(y0,Nx,Nt,dx,dt,1)\n",
    "ans1 = stupid_scheme(y0,Nx,Nt,dx,dt)\n",
    "print(np.max(np.abs(ans-u_real)),np.max(np.abs(ans1-u_real)))\n",
    "#сетка суженная вчетверо \\sigma = 1\n",
    "Nx = 41*4\n",
    "dx=0.5/4\n",
    "Nt = 36*4\n",
    "dt=0.5/4\n",
    "y0=np.zeros(Nx)\n",
    "for i in range(Nx):\n",
    "    y0[i]=np.sin(4*np.pi*i/Nx)\n",
    "u_real = np.zeros((Nt,Nx))\n",
    "for i in range(Nx):\n",
    "    for j in range(Nt):\n",
    "        u_real[j][i]=np.sin(4*np.pi*(i*dx-j*dt)/(Nx*dx))\n",
    "ans = Laks_Vendroff(y0,Nx,Nt,dx,dt,1)\n",
    "ans1 = stupid_scheme(y0,Nx,Nt,dx,dt)\n",
    "print(np.max(np.abs(ans-u_real)),np.max(np.abs(ans1-u_real)))"
   ]
  },
  {
   "cell_type": "code",
   "execution_count": 207,
   "metadata": {},
   "outputs": [
    {
     "name": "stdout",
     "output_type": "stream",
     "text": [
      "0.06386149374068266 0.3269282942210152\n",
      "0.016321256095452027 0.18140172900244134\n",
      "0.004114387026185128 0.09584696142591143\n"
     ]
    }
   ],
   "source": [
    "#дефолтная сетка \\sigma = 0.6\n",
    "Nx = 41\n",
    "dx=0.5\n",
    "Nt = 36\n",
    "dt=0.5*0.6\n",
    "y0=np.zeros(Nx)\n",
    "for i in range(Nx):\n",
    "    y0[i]=np.sin(4*np.pi*i/Nx)\n",
    "u_real = np.zeros((Nt,Nx))\n",
    "for i in range(Nx):\n",
    "    for j in range(Nt):\n",
    "        u_real[j][i]=np.sin(4*np.pi*(i*dx-j*dt)/(Nx*dx))\n",
    "ans = Laks_Vendroff(y0,Nx,Nt,dx,dt,1)\n",
    "ans1 = stupid_scheme(y0,Nx,Nt,dx,dt)\n",
    "print(np.max(np.abs(ans-u_real)),np.max(np.abs(ans1-u_real)))\n",
    "#сетка суженная вдвое \\sigma = 0.6\n",
    "Nx = 41*2\n",
    "dx=0.5/2\n",
    "Nt = 36*2\n",
    "dt=0.5/2*0.6\n",
    "y0=np.zeros(Nx)\n",
    "for i in range(Nx):\n",
    "    y0[i]=np.sin(4*np.pi*i/Nx)\n",
    "u_real = np.zeros((Nt,Nx))\n",
    "for i in range(Nx):\n",
    "    for j in range(Nt):\n",
    "        u_real[j][i]=np.sin(4*np.pi*(i*dx-j*dt)/(Nx*dx))\n",
    "ans = Laks_Vendroff(y0,Nx,Nt,dx,dt,1)\n",
    "ans1 = stupid_scheme(y0,Nx,Nt,dx,dt)\n",
    "print(np.max(np.abs(ans-u_real)),np.max(np.abs(ans1-u_real)))\n",
    "#сетка суженная вчетверо \\sigma = 0.6\n",
    "Nx = 41*4\n",
    "dx=0.5/4\n",
    "Nt = 36*4\n",
    "dt=0.5/4*0.6\n",
    "y0=np.zeros(Nx)\n",
    "for i in range(Nx):\n",
    "    y0[i]=np.sin(4*np.pi*i/Nx)\n",
    "u_real = np.zeros((Nt,Nx))\n",
    "for i in range(Nx):\n",
    "    for j in range(Nt):\n",
    "        u_real[j][i]=np.sin(4*np.pi*(i*dx-j*dt)/(Nx*dx))\n",
    "ans = Laks_Vendroff(y0,Nx,Nt,dx,dt,1)\n",
    "ans1 = stupid_scheme(y0,Nx,Nt,dx,dt)\n",
    "print(np.max(np.abs(ans-u_real)),np.max(np.abs(ans1-u_real)))"
   ]
  },
  {
   "cell_type": "code",
   "execution_count": 208,
   "metadata": {},
   "outputs": [
    {
     "name": "stdout",
     "output_type": "stream",
     "text": [
      "0.04555220091627335 0.29268214633707224\n",
      "0.011610085061939952 0.16066359293025767\n",
      "0.0029251747373751844 0.08434237410687084\n"
     ]
    }
   ],
   "source": [
    "#дефолтная сетка \\sigma = 0.3\n",
    "Nx = 41\n",
    "dx=0.5\n",
    "Nt = 36\n",
    "dt=0.5*0.3\n",
    "y0=np.zeros(Nx)\n",
    "for i in range(Nx):\n",
    "    y0[i]=np.sin(4*np.pi*i/Nx)\n",
    "u_real = np.zeros((Nt,Nx))\n",
    "for i in range(Nx):\n",
    "    for j in range(Nt):\n",
    "        u_real[j][i]=np.sin(4*np.pi*(i*dx-j*dt)/(Nx*dx))\n",
    "ans = Laks_Vendroff(y0,Nx,Nt,dx,dt,1)\n",
    "ans1 = stupid_scheme(y0,Nx,Nt,dx,dt)\n",
    "print(np.max(np.abs(ans-u_real)),np.max(np.abs(ans1-u_real)))\n",
    "#сетка суженная вдвое \\sigma = 0.6\n",
    "Nx = 41*2\n",
    "dx=0.5/2\n",
    "Nt = 36*2\n",
    "dt=0.5/2*0.3\n",
    "y0=np.zeros(Nx)\n",
    "for i in range(Nx):\n",
    "    y0[i]=np.sin(4*np.pi*i/Nx)\n",
    "u_real = np.zeros((Nt,Nx))\n",
    "for i in range(Nx):\n",
    "    for j in range(Nt):\n",
    "        u_real[j][i]=np.sin(4*np.pi*(i*dx-j*dt)/(Nx*dx))\n",
    "ans = Laks_Vendroff(y0,Nx,Nt,dx,dt,1)\n",
    "ans1 = stupid_scheme(y0,Nx,Nt,dx,dt)\n",
    "print(np.max(np.abs(ans-u_real)),np.max(np.abs(ans1-u_real)))\n",
    "#сетка суженная вчетверо \\sigma = 0.6\n",
    "Nx = 41*4\n",
    "dx=0.5/4\n",
    "Nt = 36*4\n",
    "dt=0.5/4*0.3\n",
    "y0=np.zeros(Nx)\n",
    "for i in range(Nx):\n",
    "    y0[i]=np.sin(4*np.pi*i/Nx)\n",
    "u_real = np.zeros((Nt,Nx))\n",
    "for i in range(Nx):\n",
    "    for j in range(Nt):\n",
    "        u_real[j][i]=np.sin(4*np.pi*(i*dx-j*dt)/(Nx*dx))\n",
    "ans = Laks_Vendroff(y0,Nx,Nt,dx,dt,1)\n",
    "ans1 = stupid_scheme(y0,Nx,Nt,dx,dt)\n",
    "print(np.max(np.abs(ans-u_real)),np.max(np.abs(ans1-u_real)))"
   ]
  }
 ],
 "metadata": {
  "kernelspec": {
   "display_name": "Python 3",
   "language": "python",
   "name": "python3"
  },
  "language_info": {
   "codemirror_mode": {
    "name": "ipython",
    "version": 3
   },
   "file_extension": ".py",
   "mimetype": "text/x-python",
   "name": "python",
   "nbconvert_exporter": "python",
   "pygments_lexer": "ipython3",
   "version": "3.8.10"
  }
 },
 "nbformat": 4,
 "nbformat_minor": 2
}
